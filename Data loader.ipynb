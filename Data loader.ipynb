{
 "cells": [
  {
   "cell_type": "markdown",
   "id": "3df8a18d",
   "metadata": {},
   "source": [
    "# Load Data to SQL"
   ]
  },
  {
   "cell_type": "code",
   "execution_count": 44,
   "id": "6d216cf9",
   "metadata": {},
   "outputs": [],
   "source": [
    "import json\n",
    "import os\n",
    "import re\n",
    "import mysql"
   ]
  },
  {
   "cell_type": "code",
   "execution_count": 46,
   "id": "f40b1c51",
   "metadata": {},
   "outputs": [],
   "source": [
    "with open (\"secrets.json\", 'rb') as file:\n",
    "    sql_credentials = json.load(file)\n",
    "\n",
    "username = sql_credentials['username']\n",
    "password = sql_credentials['password']\n",
    "hostname = sql_credentials['ip']"
   ]
  },
  {
   "cell_type": "code",
   "execution_count": 49,
   "id": "68d06c08",
   "metadata": {
    "scrolled": false
   },
   "outputs": [
    {
     "name": "stdout",
     "output_type": "stream",
     "text": [
      "Loaded data from 'csv_folder/airportdb@passengerdetails@@0.csv' into table 'passengerdetails'\n",
      "Loaded data from 'csv_folder/airportdb@weatherdata@0.csv' into table 'weatherdata'\n",
      "Loaded data from 'csv_folder/airportdb@weatherdata@@1.csv' into table 'weatherdata'\n",
      "Loaded data from 'csv_folder/airportdb@airport_geo@@0.csv' into table 'airport_geo'\n",
      "Loaded data from 'csv_folder/airportdb@booking@14.csv' into table 'booking'\n",
      "Loaded data from 'csv_folder/airportdb@airplane_type@@0.csv' into table 'airplane_type'\n",
      "Loaded data from 'csv_folder/airportdb@booking@15.csv' into table 'booking'\n",
      "Loaded data from 'csv_folder/airportdb@booking@@24.csv' into table 'booking'\n",
      "Loaded data from 'csv_folder/airportdb@booking@17.csv' into table 'booking'\n",
      "Loaded data from 'csv_folder/airportdb@booking@16.csv' into table 'booking'\n",
      "Loaded data from 'csv_folder/airportdb@booking@12.csv' into table 'booking'\n",
      "Loaded data from 'csv_folder/airportdb@booking@13.csv' into table 'booking'\n",
      "Loaded data from 'csv_folder/airportdb@booking@11.csv' into table 'booking'\n",
      "Loaded data from 'csv_folder/airportdb@booking@8.csv' into table 'booking'\n",
      "Loaded data from 'csv_folder/airportdb@booking@9.csv' into table 'booking'\n",
      "Loaded data from 'csv_folder/airportdb@booking@10.csv' into table 'booking'\n",
      "Loaded data from 'csv_folder/airportdb@booking@21.csv' into table 'booking'\n",
      "Loaded data from 'csv_folder/airportdb@booking@4.csv' into table 'booking'\n",
      "Loaded data from 'csv_folder/airportdb@flightschedule@@0.csv' into table 'flightschedule'\n",
      "Loaded data from 'csv_folder/airportdb@booking@5.csv' into table 'booking'\n",
      "Loaded data from 'csv_folder/airportdb@booking@20.csv' into table 'booking'\n",
      "Loaded data from 'csv_folder/airportdb@booking@22.csv' into table 'booking'\n",
      "Loaded data from 'csv_folder/airportdb@booking@7.csv' into table 'booking'\n",
      "Loaded data from 'csv_folder/airportdb@booking@6.csv' into table 'booking'\n",
      "Loaded data from 'csv_folder/airportdb@booking@23.csv' into table 'booking'\n",
      "Loaded data from 'csv_folder/airportdb@booking@2.csv' into table 'booking'\n",
      "Loaded data from 'csv_folder/airportdb@booking@3.csv' into table 'booking'\n",
      "Loaded data from 'csv_folder/airportdb@booking@18.csv' into table 'booking'\n",
      "Loaded data from 'csv_folder/airportdb@booking@1.csv' into table 'booking'\n",
      "Loaded data from 'csv_folder/airportdb@booking@0.csv' into table 'booking'\n",
      "Loaded data from 'csv_folder/airportdb@booking@19.csv' into table 'booking'\n",
      "Loaded data from 'csv_folder/airportdb@passenger@@0.csv' into table 'passenger'\n",
      "Loaded data from 'csv_folder/airportdb@employee@@0.csv' into table 'employee'\n",
      "Loaded data from 'csv_folder/airportdb@airport@@0.csv' into table 'airport'\n",
      "Loaded data from 'csv_folder/airportdb@flight@@0.csv' into table 'flight'\n",
      "Data loading completed.\n"
     ]
    }
   ],
   "source": [
    "# Define the directory where the CSV files are located\n",
    "csv_directory = \"csv_folder\"\n",
    "\n",
    "# Initialize a MySQL connection\n",
    "connection = mysql.connector.connect(\n",
    "    user=username\n",
    "    , password=password\n",
    "    , host=hostname\n",
    "    , database='airportdb'\n",
    "    , allow_local_infile=True\n",
    ")\n",
    "cursor = connection.cursor()\n",
    "\n",
    "# Function to extract table name from filename (excluding numbers)\n",
    "def extract_table_name(filename):\n",
    "    table_name = os.path.splitext(filename)[0]  # Remove file extension\n",
    "    table_name = re.sub(r'\\d', '', table_name)  # Remove numbers\n",
    "    return table_name\n",
    "\n",
    "# Iterate through CSV files in the directory\n",
    "for root, _, files in os.walk(csv_directory):\n",
    "    for file in files:\n",
    "        if file.endswith(\".csv\"):\n",
    "\n",
    "            # Remove '@', '0' and 'airportdb' from the file name\n",
    "            new_file_name = os.path.basename(file).replace('@', '').replace('0', '').replace('airportdb', '')\n",
    "            \n",
    "            # Extract the table name from the file name\n",
    "            table_name = extract_table_name(new_file_name)\n",
    "\n",
    "            # Construct the full path to the CSV file\n",
    "            csv_file_path = os.path.join(root, file)\n",
    "\n",
    "            # Replace backslashes with forward slashes for Windows paths\n",
    "            # csv_file_path = tsv_file_path.replace(\"\\\\\", \"/\")\n",
    "\n",
    "            # Define the SQL query to load data from the CSV file\n",
    "            load_data_query = f\"\"\"\n",
    "                LOAD DATA LOCAL INFILE '{csv_file_path}' \n",
    "                INTO TABLE {table_name} \n",
    "                FIELDS TERMINATED BY '|' \n",
    "                LINES TERMINATED BY '\\n';\n",
    "            \"\"\"\n",
    "\n",
    "            # Execute the SQL query to load data\n",
    "            try:\n",
    "                cursor.execute(load_data_query)\n",
    "                print(f\"Loaded data from '{csv_file_path}' into table '{table_name}'\")\n",
    "            except mysql.connector.Error as err:\n",
    "                print(f\"Error loading data from '{csv_file_path}' into table '{table_name}': {err}\")\n",
    "\n",
    "# Commit changes and close the connection\n",
    "connection.commit()\n",
    "connection.close()\n",
    "\n",
    "print(\"Data loading completed.\")"
   ]
  }
 ],
 "metadata": {
  "kernelspec": {
   "display_name": "Python 3 (ipykernel)",
   "language": "python",
   "name": "python3"
  },
  "language_info": {
   "codemirror_mode": {
    "name": "ipython",
    "version": 3
   },
   "file_extension": ".py",
   "mimetype": "text/x-python",
   "name": "python",
   "nbconvert_exporter": "python",
   "pygments_lexer": "ipython3",
   "version": "3.9.13"
  }
 },
 "nbformat": 4,
 "nbformat_minor": 5
}
