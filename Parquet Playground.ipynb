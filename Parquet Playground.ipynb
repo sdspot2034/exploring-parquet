{
 "cells": [
  {
   "cell_type": "code",
   "execution_count": null,
   "id": "c1fdb9f5",
   "metadata": {},
   "outputs": [],
   "source": [
    "from pyspark.sql import SparkSession\n",
    "\n",
    "# Setting up Spark session with necessary configurations\n",
    "spark = SparkSession \\\n",
    "    .builder \\\n",
    "    .appName(\"Parquetfy\") \\\n",
    "    .config(\"spark.hadoop.fs.AbstractFileSystem.hdfs.impl\", \"org.apache.hadoop.hdfs.DistributedFileSystem\") \\\n",
    "    .getOrCreate()\n",
    "\n",
    "# Setting log level to ERROR to reduce log verbosity\n",
    "spark.sparkContext.setLogLevel(\"ERROR\")\n",
    "\n",
    "# Reading CSV file with header and schema inference\n",
    "df = spark.read.option(\"header\", \"true\").option(\"inferSchema\", \"true\").csv(\"csv_folder/airportdb@weatherdata@0.csv\")\n",
    "\n",
    "# Displaying the content of the DataFrame\n",
    "df.show()\n",
    "\n",
    "# Writing DataFrame to Parquet format\n",
    "df.write.parquet(\"parquets/airportdb@weatherdata@0.parquet\")\n"
   ]
  },
  {
   "cell_type": "code",
   "execution_count": 1,
   "id": "d1bf2dee",
   "metadata": {},
   "outputs": [
    {
     "data": {
      "text/plain": [
       "b'airport_id|iata|icao|name\\r\\n1|LCG|LECO|A CORUNA\\r\\n2||7Y7|A R S SPORT STRIP\\r\\n3|TID|DAOB|A. BOUSSOUF AIN'"
      ]
     },
     "execution_count": 1,
     "metadata": {},
     "output_type": "execute_result"
    }
   ],
   "source": [
    "with open('/Users/shreyan/Desktop/airport_20240710.csv','rb') as file:\n",
    "    text = file.read()\n",
    "    \n",
    "text[:100]"
   ]
  },
  {
   "cell_type": "code",
   "execution_count": null,
   "id": "0bcff317",
   "metadata": {},
   "outputs": [],
   "source": []
  }
 ],
 "metadata": {
  "kernelspec": {
   "display_name": "Python 3 (ipykernel)",
   "language": "python",
   "name": "python3"
  },
  "language_info": {
   "codemirror_mode": {
    "name": "ipython",
    "version": 3
   },
   "file_extension": ".py",
   "mimetype": "text/x-python",
   "name": "python",
   "nbconvert_exporter": "python",
   "pygments_lexer": "ipython3",
   "version": "3.9.13"
  }
 },
 "nbformat": 4,
 "nbformat_minor": 5
}
