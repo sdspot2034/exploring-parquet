{
 "cells": [
  {
   "cell_type": "code",
   "execution_count": 1,
   "id": "ee3e1cdc",
   "metadata": {},
   "outputs": [],
   "source": [
    "import json\n",
    "from datetime import datetime"
   ]
  },
  {
   "cell_type": "code",
   "execution_count": 2,
   "id": "e4f38306",
   "metadata": {},
   "outputs": [],
   "source": [
    "with open (\"secrets.json\", 'rb') as file:\n",
    "    SQL_CREDENTIALS = json.load(file)\n",
    "\n",
    "USERNAME = SQL_CREDENTIALS['username']\n",
    "PASSWORD = SQL_CREDENTIALS['password']\n",
    "HOSTNAME = SQL_CREDENTIALS['ip']\n",
    "SECONDS_IN_DAY = 24 * 60 * 60"
   ]
  },
  {
   "cell_type": "code",
   "execution_count": 10,
   "id": "461fefe9",
   "metadata": {},
   "outputs": [],
   "source": [
    "# Decorator for timing command\n",
    "def timer(func):\n",
    "    def inner(*args, **kwargs):\n",
    "        start = datetime.now()\n",
    "        returned_value = func(*args, **kwargs)\n",
    "        end = datetime.now()\n",
    "        \n",
    "        # Calculate runtime\n",
    "        time_diff = end - start\n",
    "        runtime=divmod(time_diff.days * SECONDS_IN_DAY + time_diff.seconds, 60)\n",
    "        mins=runtime[0]\n",
    "        secs=runtime[1]\n",
    "        \n",
    "        # Print runtime\n",
    "        print(f\"Execution time: {mins} min {secs} sec\")\n",
    "        \n",
    "        return returned_value\n",
    "\n",
    "    return inner"
   ]
  },
  {
   "cell_type": "code",
   "execution_count": 17,
   "id": "e4eade06",
   "metadata": {},
   "outputs": [],
   "source": [
    "@timer\n",
    "def show_dataframe(dataframe, no_of_rows=3):\n",
    "    print(dataframe.head(no_of_rows))"
   ]
  },
  {
   "cell_type": "code",
   "execution_count": 12,
   "id": "97457ea6",
   "metadata": {},
   "outputs": [],
   "source": [
    "QUERY = \"\"\"\n",
    "(SELECT \n",
    "    A.booking_id\n",
    "    , B.flightno\n",
    "    , D.airport_id AS origin_airport_id\n",
    "    , D.icao AS origin_icao\n",
    "    , D.name AS origin_name\n",
    "    , F.city AS origin_city\n",
    "    , F.country AS origin_country\n",
    "    , F.latitude AS origin_lat\n",
    "    , F.longitude AS origin_long\n",
    "    , E.icao AS destination_icao\n",
    "    , E.name AS destination_name\n",
    "    , G.city AS destination_city\n",
    "    , G.country AS destination_country\n",
    "    , G.latitude AS destination_lat\n",
    "    , G.longitude AS destination_long\n",
    "    , B.departure\n",
    "    , B.arrival\n",
    "    , H.airlinename\n",
    "    , J.identifier AS airplane_type\n",
    "    , I.capacity AS airplane_capacity\n",
    "    , C.firstname\n",
    "    , C.lastname\n",
    "    , A.seat\n",
    "    , C.passportno\n",
    "    , K.birthdate as passenger_birthdate\n",
    "    , K.sex as passenger_sex\n",
    "    , K.country as passenger_country\n",
    "    , K.city as passenger_city\n",
    "    , A.price\n",
    "FROM booking A\n",
    "LEFT JOIN flight B on A.flight_id = B.flight_id\n",
    "LEFT JOIN passenger C on A.passenger_id = C.passenger_id\n",
    "LEFT JOIN passengerdetails K on A.passenger_id = K.passenger_id\n",
    "LEFT JOIN airport D on B.`from` = D.airport_id\n",
    "LEFT JOIN airport E on B.`to` = E.airport_id\n",
    "LEFT JOIN airport_geo F on B.`from` = F.airport_id\n",
    "LEFT JOIN airport_geo G on B.`to` = G.airport_id\n",
    "LEFT JOIN airline H on B.airline_id = H.airline_id\n",
    "LEFT JOIN airplane I on B.airplane_id = I.airplane_id\n",
    "LEFT JOIN airplane_type J on I.type_id = J.type_id\n",
    ") X\n",
    "\"\"\""
   ]
  },
  {
   "cell_type": "code",
   "execution_count": 13,
   "id": "9d0d7ae0",
   "metadata": {},
   "outputs": [],
   "source": [
    "from pyspark.sql import SparkSession\n",
    "\n",
    "spark = SparkSession \\\n",
    "    .builder \\\n",
    "    .appName(\"Parquetfy\") \\\n",
    "    .config(\"spark.jars\", \"/Users/shreyan/Downloads/mysql-connector-j-9.0.0/mysql-connector-j-9.0.0.jar\") \\\n",
    "    .config(\"spark.executor.memory\", \"4g\") \\\n",
    "    .config(\"spark.executor.cores\", \"2\") \\\n",
    "    .config(\"spark.driver.memory\", \"4g\") \\\n",
    "    .getOrCreate()\n",
    "\n",
    "url = f\"jdbc:mysql://{HOSTNAME}:3306/airportdb\"\n",
    "properties = {\n",
    "    \"user\": USERNAME,\n",
    "    \"password\": PASSWORD,\n",
    "    \"driver\": \"com.mysql.cj.jdbc.Driver\"\n",
    "}"
   ]
  },
  {
   "cell_type": "code",
   "execution_count": 14,
   "id": "bc5a0586",
   "metadata": {},
   "outputs": [],
   "source": [
    "partition_column = \"origin_airport_id\"  # Adjust this based on your data\n",
    "lowerbound=1\n",
    "upperbound=10000\n",
    "num_partitions = 16  # Adjust based on your hardware resources"
   ]
  },
  {
   "cell_type": "code",
   "execution_count": 15,
   "id": "a1b89c47",
   "metadata": {},
   "outputs": [],
   "source": [
    "spark_df = spark.read.jdbc(\n",
    "    url=url,\n",
    "    table=QUERY,\n",
    "    properties=properties,\n",
    "    column=partition_column,\n",
    "    lowerBound=lowerbound,\n",
    "    upperBound=upperbound,\n",
    "    numPartitions=num_partitions\n",
    ")"
   ]
  },
  {
   "cell_type": "code",
   "execution_count": 18,
   "id": "aa762d8b",
   "metadata": {},
   "outputs": [
    {
     "name": "stderr",
     "output_type": "stream",
     "text": [
      "[Stage 1:>                                                          (0 + 1) / 1]\r"
     ]
    },
    {
     "name": "stdout",
     "output_type": "stream",
     "text": [
      "[Row(booking_id=1191, flightno='SP5604  ', origin_airport_id=509, origin_icao='ESUB', origin_name='ARBRA\\r', origin_city='ARBRA', origin_country='SWEDEN', origin_lat=Decimal('61.51250000'), origin_long=Decimal('16.37250000'), destination_icao='OAHN', destination_name='KHWAHAN\\r', destination_city='KHWAHAN', destination_country='AFGHANISTAN', destination_lat=Decimal('37.88333300'), destination_long=Decimal('70.20000000'), departure=datetime.datetime(2015, 6, 10, 19, 39), arrival=datetime.datetime(2015, 6, 11, 1, 18), airlinename='Spain Airlines', airplane_type='Airbus-A320-Familie', airplane_capacity=150, firstname='Wade', lastname='Boggs\\r', seat='25C ', passportno='P110193  ', passenger_birthdate=datetime.date(1958, 6, 22), passenger_sex='m', passenger_country='Mozambique', passenger_city='Zeltschach', price=Decimal('3.15')), Row(booking_id=1192, flightno='SP5604  ', origin_airport_id=509, origin_icao='ESUB', origin_name='ARBRA\\r', origin_city='ARBRA', origin_country='SWEDEN', origin_lat=Decimal('61.51250000'), origin_long=Decimal('16.37250000'), destination_icao='OAHN', destination_name='KHWAHAN\\r', destination_city='KHWAHAN', destination_country='AFGHANISTAN', destination_lat=Decimal('37.88333300'), destination_long=Decimal('70.20000000'), departure=datetime.datetime(2015, 6, 10, 19, 39), arrival=datetime.datetime(2015, 6, 11, 1, 18), airlinename='Spain Airlines', airplane_type='Airbus-A320-Familie', airplane_capacity=150, firstname='Tanja', lastname='Dexters\\r', seat='24G ', passportno='P124966  ', passenger_birthdate=datetime.date(1977, 2, 17), passenger_sex='w', passenger_country='Germany', passenger_city='Greith', price=Decimal('435.34')), Row(booking_id=1193, flightno='SP5604  ', origin_airport_id=509, origin_icao='ESUB', origin_name='ARBRA\\r', origin_city='ARBRA', origin_country='SWEDEN', origin_lat=Decimal('61.51250000'), origin_long=Decimal('16.37250000'), destination_icao='OAHN', destination_name='KHWAHAN\\r', destination_city='KHWAHAN', destination_country='AFGHANISTAN', destination_lat=Decimal('37.88333300'), destination_long=Decimal('70.20000000'), departure=datetime.datetime(2015, 6, 10, 19, 39), arrival=datetime.datetime(2015, 6, 11, 1, 18), airlinename='Spain Airlines', airplane_type='Airbus-A320-Familie', airplane_capacity=150, firstname='Will', lastname='Makar\\r', seat='24H ', passportno='P138656  ', passenger_birthdate=datetime.date(1989, 3, 25), passenger_sex='m', passenger_country='Thailand', passenger_city='Spratzeck', price=Decimal('191.63'))]\n",
      "Execution time: 1 min 42 sec\n"
     ]
    },
    {
     "name": "stderr",
     "output_type": "stream",
     "text": [
      "\r",
      "                                                                                \r"
     ]
    }
   ],
   "source": [
    "show_dataframe(dataframe=spark_df,no_of_rows=3)"
   ]
  }
 ],
 "metadata": {
  "kernelspec": {
   "display_name": "Python 3 (ipykernel)",
   "language": "python",
   "name": "python3"
  },
  "language_info": {
   "codemirror_mode": {
    "name": "ipython",
    "version": 3
   },
   "file_extension": ".py",
   "mimetype": "text/x-python",
   "name": "python",
   "nbconvert_exporter": "python",
   "pygments_lexer": "ipython3",
   "version": "3.9.13"
  }
 },
 "nbformat": 4,
 "nbformat_minor": 5
}
